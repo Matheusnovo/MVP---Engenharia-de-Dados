{
 "cells": [
  {
   "cell_type": "markdown",
   "metadata": {
    "application/vnd.databricks.v1+cell": {
     "cellMetadata": {},
     "inputWidgets": {},
     "nuid": "84967a3d-d97c-45a6-ae89-e1d45aba664e",
     "showTitle": false,
     "tableResultSettingsMap": {},
     "title": ""
    }
   },
   "source": [
    "## 🎯 Problema a ser resolvido\n",
    "\n",
    "O objetivo deste MVP é analisar o desempenho dos times do **Campeonato Brasileiro da Série A** ao longo das temporadas de **2003 a 2022**, buscando entender fatores que influenciam os resultados das partidas e comportamentos recorrentes entre os times mais bem-sucedidos (campeões, classificados para a Libertadores) e os de pior desempenho (rebaixados).\n",
    "\n",
    "A partir dessa análise, queremos extrair insights relevantes que ajudem a responder perguntas como:\n",
    "\n",
    "- 📌 **O mando de campo ainda tem forte influência nos resultados?**\n",
    "- 📌 **Os gols marcados tem forte influência nos resultados?**\n",
    "- 📌 **Como foi o aproveitamento dos times com base no mando de campo e gols marcados/sofridos?**\n",
    "\n",
    "---\n",
    "\n",
    "### 📂 Dataset escolhido\n",
    "\n",
    "Para começar, escolhi no Kaggle o dataset:\n",
    "\n",
    "**Brazilian League Matches 2003–2022**  \n",
    "🔗 [Link do dataset no Kaggle](https://www.kaggle.com/datasets/fabrciomacena/brazilian-league-matches-2003-2022)\n",
    "\n",
    "Este dataset contém informações detalhadas de todas as partidas da Série A entre os anos de 2003 e 2022. Ele inclui:\n",
    "\n",
    "- Nomes dos times\n",
    "- Resultados dos jogos\n",
    "- Datas das partidas\n",
    "- Locais e estádios\n",
    "\n",
    "---\n",
    "\n",
    "### 🔧 Etapa inicial\n",
    "\n",
    "Vou começar **baixando o dataset e subindo para o Databricks**, para que eu possa manipulá-lo diretamente na plataforma, aplicando transformações, análises e visualizações.\n"
   ]
  },
  {
   "cell_type": "code",
   "execution_count": 0,
   "metadata": {
    "application/vnd.databricks.v1+cell": {
     "cellMetadata": {
      "byteLimit": 2048000,
      "rowLimit": 10000
     },
     "inputWidgets": {},
     "nuid": "5aa54fca-be2b-4c1e-9359-5706046ef4db",
     "showTitle": false,
     "tableResultSettingsMap": {},
     "title": ""
    }
   },
   "outputs": [
    {
     "output_type": "stream",
     "name": "stdout",
     "output_type": "stream",
     "text": [
      "+-----+--------------+------------+----------+----------+-----------+----+\n|round|       stadium|   home_team|home_score|away_score|  away_team|year|\n+-----+--------------+------------+----------+----------+-----------+----+\n|    1|Brinco de Ouro|     Guarani|       4.0|       2.0|      Vasco|2003|\n|    1|   Ligga Arena|Athletico-PR|       2.0|       0.0|     Grêmio|2003|\n|    1|Alfredo Jaconi|   Juventude|       2.0|       2.0|  São Paulo|2003|\n|    1|      Mineirão|    Cruzeiro|       2.0|       2.0|São Caetano|2003|\n|    1|      Maracanã|    Flamengo|       1.0|       1.0|   Coritiba|2003|\n+-----+--------------+------------+----------+----------+-----------+----+\nonly showing top 5 rows\n\nroot\n |-- round: integer (nullable = true)\n |-- stadium: string (nullable = true)\n |-- home_team: string (nullable = true)\n |-- home_score: double (nullable = true)\n |-- away_score: double (nullable = true)\n |-- away_team: string (nullable = true)\n |-- year: integer (nullable = true)\n\n"
     ]
    }
   ],
   "source": [
    "# Leitura do CSV\n",
    "df = spark.read.option(\"header\", \"true\").option(\"inferSchema\", \"true\").csv(\"/FileStore/tables/jogos_brasileirao.csv\")\n",
    "df.show(5)\n",
    "df.printSchema()"
   ]
  },
  {
   "cell_type": "markdown",
   "metadata": {
    "application/vnd.databricks.v1+cell": {
     "cellMetadata": {},
     "inputWidgets": {},
     "nuid": "82600e14-2d27-448f-990d-86fd73c66e2e",
     "showTitle": false,
     "tableResultSettingsMap": {},
     "title": ""
    }
   },
   "source": [
    "Visto que correu tudo bem, vou criar um banco de dados chamado bronze."
   ]
  },
  {
   "cell_type": "code",
   "execution_count": 0,
   "metadata": {
    "application/vnd.databricks.v1+cell": {
     "cellMetadata": {
      "byteLimit": 2048000,
      "implicitDf": true,
      "rowLimit": 10000
     },
     "inputWidgets": {},
     "nuid": "f097dc45-b5d9-4648-b500-57289e7153c8",
     "showTitle": false,
     "tableResultSettingsMap": {},
     "title": ""
    }
   },
   "outputs": [
    {
     "output_type": "display_data",
     "data": {
      "text/html": [
       "<style scoped>\n",
       "  .table-result-container {\n",
       "    max-height: 300px;\n",
       "    overflow: auto;\n",
       "  }\n",
       "  table, th, td {\n",
       "    border: 1px solid black;\n",
       "    border-collapse: collapse;\n",
       "  }\n",
       "  th, td {\n",
       "    padding: 5px;\n",
       "  }\n",
       "  th {\n",
       "    text-align: left;\n",
       "  }\n",
       "</style><div class='table-result-container'><table class='table-result'><thead style='background-color: white'><tr></tr></thead><tbody></tbody></table></div>"
      ]
     },
     "metadata": {
      "application/vnd.databricks.v1+output": {
       "addedWidgets": {},
       "aggData": [],
       "aggError": "",
       "aggOverflow": false,
       "aggSchema": [],
       "aggSeriesLimitReached": false,
       "aggType": "",
       "arguments": {},
       "columnCustomDisplayInfos": {},
       "data": [],
       "datasetInfos": [],
       "dbfsResultPath": null,
       "isJsonSchema": true,
       "metadata": {},
       "overflow": false,
       "plotOptions": {
        "customPlotOptions": {},
        "displayType": "table",
        "pivotAggregation": null,
        "pivotColumns": null,
        "xColumns": null,
        "yColumns": null
       },
       "removedWidgets": [],
       "schema": [],
       "type": "table"
      }
     },
     "output_type": "display_data"
    }
   ],
   "source": [
    "%sql\n",
    "\n",
    "CREATE DATABASE IF NOT EXISTS bronze;\n",
    "\n",
    "USE bronze;"
   ]
  },
  {
   "cell_type": "markdown",
   "metadata": {
    "application/vnd.databricks.v1+cell": {
     "cellMetadata": {},
     "inputWidgets": {},
     "nuid": "6193ecb3-29cb-40cd-b0c8-332fb4ab78da",
     "showTitle": false,
     "tableResultSettingsMap": {},
     "title": ""
    }
   },
   "source": [
    "Vou criar uma tabela chamada jogos e importar os dados do csv para essa tabela."
   ]
  },
  {
   "cell_type": "code",
   "execution_count": 0,
   "metadata": {
    "application/vnd.databricks.v1+cell": {
     "cellMetadata": {
      "byteLimit": 2048000,
      "rowLimit": 10000
     },
     "inputWidgets": {},
     "nuid": "af328b11-ea5f-4c05-a1a5-63e59493aa1e",
     "showTitle": false,
     "tableResultSettingsMap": {},
     "title": ""
    }
   },
   "outputs": [],
   "source": [
    "\n",
    "df = spark.read.option(\"header\", \"true\").option(\"inferSchema\", \"true\").csv(\"/FileStore/tables/jogos_brasileirao.csv\")\n",
    "\n",
    "df.write.format(\"delta\").mode(\"overwrite\").saveAsTable(\"bronze.jogos\")"
   ]
  },
  {
   "cell_type": "code",
   "execution_count": 0,
   "metadata": {
    "application/vnd.databricks.v1+cell": {
     "cellMetadata": {
      "byteLimit": 2048000,
      "implicitDf": true,
      "rowLimit": 10000
     },
     "inputWidgets": {},
     "nuid": "9929d233-8fb0-46a4-ab67-a9157e00a72d",
     "showTitle": false,
     "tableResultSettingsMap": {},
     "title": ""
    }
   },
   "outputs": [
    {
     "output_type": "display_data",
     "data": {
      "text/html": [
       "<style scoped>\n",
       "  .table-result-container {\n",
       "    max-height: 300px;\n",
       "    overflow: auto;\n",
       "  }\n",
       "  table, th, td {\n",
       "    border: 1px solid black;\n",
       "    border-collapse: collapse;\n",
       "  }\n",
       "  th, td {\n",
       "    padding: 5px;\n",
       "  }\n",
       "  th {\n",
       "    text-align: left;\n",
       "  }\n",
       "</style><div class='table-result-container'><table class='table-result'><thead style='background-color: white'><tr><th>round</th><th>stadium</th><th>home_team</th><th>home_score</th><th>away_score</th><th>away_team</th><th>year</th></tr></thead><tbody><tr><td>1</td><td>Brinco de Ouro</td><td>Guarani</td><td>4.0</td><td>2.0</td><td>Vasco</td><td>2003</td></tr><tr><td>1</td><td>Ligga Arena</td><td>Athletico-PR</td><td>2.0</td><td>0.0</td><td>Grêmio</td><td>2003</td></tr><tr><td>1</td><td>Alfredo Jaconi</td><td>Juventude</td><td>2.0</td><td>2.0</td><td>São Paulo</td><td>2003</td></tr><tr><td>1</td><td>Mineirão</td><td>Cruzeiro</td><td>2.0</td><td>2.0</td><td>São Caetano</td><td>2003</td></tr><tr><td>1</td><td>Maracanã</td><td>Flamengo</td><td>1.0</td><td>1.0</td><td>Coritiba</td><td>2003</td></tr></tbody></table></div>"
      ]
     },
     "metadata": {
      "application/vnd.databricks.v1+output": {
       "addedWidgets": {},
       "aggData": [],
       "aggError": "",
       "aggOverflow": false,
       "aggSchema": [],
       "aggSeriesLimitReached": false,
       "aggType": "",
       "arguments": {},
       "columnCustomDisplayInfos": {},
       "data": [
        [
         1,
         "Brinco de Ouro",
         "Guarani",
         4.0,
         2.0,
         "Vasco",
         2003
        ],
        [
         1,
         "Ligga Arena",
         "Athletico-PR",
         2.0,
         0.0,
         "Grêmio",
         2003
        ],
        [
         1,
         "Alfredo Jaconi",
         "Juventude",
         2.0,
         2.0,
         "São Paulo",
         2003
        ],
        [
         1,
         "Mineirão",
         "Cruzeiro",
         2.0,
         2.0,
         "São Caetano",
         2003
        ],
        [
         1,
         "Maracanã",
         "Flamengo",
         1.0,
         1.0,
         "Coritiba",
         2003
        ]
       ],
       "datasetInfos": [],
       "dbfsResultPath": null,
       "isJsonSchema": true,
       "metadata": {},
       "overflow": false,
       "plotOptions": {
        "customPlotOptions": {},
        "displayType": "table",
        "pivotAggregation": null,
        "pivotColumns": null,
        "xColumns": null,
        "yColumns": null
       },
       "removedWidgets": [],
       "schema": [
        {
         "metadata": "{}",
         "name": "round",
         "type": "\"integer\""
        },
        {
         "metadata": "{}",
         "name": "stadium",
         "type": "\"string\""
        },
        {
         "metadata": "{}",
         "name": "home_team",
         "type": "\"string\""
        },
        {
         "metadata": "{}",
         "name": "home_score",
         "type": "\"double\""
        },
        {
         "metadata": "{}",
         "name": "away_score",
         "type": "\"double\""
        },
        {
         "metadata": "{}",
         "name": "away_team",
         "type": "\"string\""
        },
        {
         "metadata": "{}",
         "name": "year",
         "type": "\"integer\""
        }
       ],
       "type": "table"
      }
     },
     "output_type": "display_data"
    }
   ],
   "source": [
    "%sql\n",
    "SELECT * FROM bronze.jogos LIMIT 5;"
   ]
  },
  {
   "cell_type": "markdown",
   "metadata": {
    "application/vnd.databricks.v1+cell": {
     "cellMetadata": {},
     "inputWidgets": {},
     "nuid": "05454853-0a01-4483-97b9-43597f21fb67",
     "showTitle": false,
     "tableResultSettingsMap": {},
     "title": ""
    }
   },
   "source": [
    "### Esquema Estrela\n",
    "Optei por implementar um modelo dimensional em Esquema Estrela, onde os dados são organizados em torno de uma tabela fato (fato_jogos) e diversas tabelas dimensão relacionadas, com o objetivo de facilitar análises por diferentes perspectivas como time, data e local.\n"
   ]
  },
  {
   "cell_type": "markdown",
   "metadata": {
    "application/vnd.databricks.v1+cell": {
     "cellMetadata": {},
     "inputWidgets": {},
     "nuid": "d39f0912-8725-4916-9334-764cd09963ee",
     "showTitle": false,
     "tableResultSettingsMap": {},
     "title": ""
    }
   },
   "source": [
    "A seguir vou criar a tabela silver fazendo algumas transformações:"
   ]
  },
  {
   "cell_type": "code",
   "execution_count": 0,
   "metadata": {
    "application/vnd.databricks.v1+cell": {
     "cellMetadata": {
      "byteLimit": 2048000,
      "rowLimit": 10000
     },
     "inputWidgets": {},
     "nuid": "dc091788-a6fa-4bd8-b570-ef8ba32307db",
     "showTitle": false,
     "tableResultSettingsMap": {},
     "title": ""
    }
   },
   "outputs": [],
   "source": [
    "from pyspark.sql.functions import col, when\n",
    "\n",
    "from pyspark.sql.functions import col, when\n",
    "\n",
    "# Leitura da camada bronze\n",
    "df = spark.table(\"bronze.jogos\")\n",
    "\n",
    "# Transformações\n",
    "df_silver = df.withColumnRenamed(\"home_team\", \"time_mandante\") \\\n",
    "              .withColumnRenamed(\"away_team\", \"time_visitante\") \\\n",
    "              .withColumnRenamed(\"home_score\", \"gols_mandante\") \\\n",
    "              .withColumnRenamed(\"away_score\", \"gols_visitante\") \\\n",
    "              .withColumnRenamed(\"date\", \"data_partida\") \\\n",
    "              .withColumnRenamed(\"stadium\", \"estadio\") \\\n",
    "              .withColumn(\"resultado\", when(col(\"gols_mandante\") > col(\"gols_visitante\"), \"Mandante\")\n",
    "                                        .when(col(\"gols_mandante\") < col(\"gols_visitante\"), \"Visitante\")\n",
    "                                        .otherwise(\"Empate\"))\n",
    "\n",
    "# Criação de uma view temporária para usar no SQL\n",
    "df_silver.createOrReplaceTempView(\"vw_jogos_silver\")"
   ]
  },
  {
   "cell_type": "code",
   "execution_count": 0,
   "metadata": {
    "application/vnd.databricks.v1+cell": {
     "cellMetadata": {
      "byteLimit": 2048000,
      "implicitDf": true,
      "rowLimit": 10000
     },
     "inputWidgets": {},
     "nuid": "0bc76258-0b83-49e9-a8e5-526f16fdd213",
     "showTitle": false,
     "tableResultSettingsMap": {},
     "title": ""
    }
   },
   "outputs": [
    {
     "output_type": "display_data",
     "data": {
      "text/html": [
       "<style scoped>\n",
       "  .table-result-container {\n",
       "    max-height: 300px;\n",
       "    overflow: auto;\n",
       "  }\n",
       "  table, th, td {\n",
       "    border: 1px solid black;\n",
       "    border-collapse: collapse;\n",
       "  }\n",
       "  th, td {\n",
       "    padding: 5px;\n",
       "  }\n",
       "  th {\n",
       "    text-align: left;\n",
       "  }\n",
       "</style><div class='table-result-container'><table class='table-result'><thead style='background-color: white'><tr><th>num_affected_rows</th><th>num_inserted_rows</th></tr></thead><tbody></tbody></table></div>"
      ]
     },
     "metadata": {
      "application/vnd.databricks.v1+output": {
       "addedWidgets": {},
       "aggData": [],
       "aggError": "",
       "aggOverflow": false,
       "aggSchema": [],
       "aggSeriesLimitReached": false,
       "aggType": "",
       "arguments": {},
       "columnCustomDisplayInfos": {},
       "data": [],
       "datasetInfos": [],
       "dbfsResultPath": null,
       "isJsonSchema": true,
       "metadata": {},
       "overflow": false,
       "plotOptions": {
        "customPlotOptions": {},
        "displayType": "table",
        "pivotAggregation": null,
        "pivotColumns": null,
        "xColumns": null,
        "yColumns": null
       },
       "removedWidgets": [],
       "schema": [
        {
         "metadata": "{}",
         "name": "num_affected_rows",
         "type": "\"long\""
        },
        {
         "metadata": "{}",
         "name": "num_inserted_rows",
         "type": "\"long\""
        }
       ],
       "type": "table"
      }
     },
     "output_type": "display_data"
    }
   ],
   "source": [
    "%sql\n",
    "-- Criação do schema silver se ainda não existir\n",
    "CREATE SCHEMA IF NOT EXISTS silver;\n",
    "\n",
    "-- Criação da tabela a partir da view temporária\n",
    "CREATE OR REPLACE TABLE silver.jogos_silver AS\n",
    "SELECT * FROM vw_jogos_silver;"
   ]
  },
  {
   "cell_type": "code",
   "execution_count": 0,
   "metadata": {
    "application/vnd.databricks.v1+cell": {
     "cellMetadata": {
      "byteLimit": 2048000,
      "implicitDf": true,
      "rowLimit": 10000
     },
     "inputWidgets": {},
     "nuid": "78f2f2bc-73c0-4661-b1bd-2be3f8493a87",
     "showTitle": false,
     "tableResultSettingsMap": {},
     "title": ""
    }
   },
   "outputs": [
    {
     "output_type": "display_data",
     "data": {
      "text/html": [
       "<style scoped>\n",
       "  .table-result-container {\n",
       "    max-height: 300px;\n",
       "    overflow: auto;\n",
       "  }\n",
       "  table, th, td {\n",
       "    border: 1px solid black;\n",
       "    border-collapse: collapse;\n",
       "  }\n",
       "  th, td {\n",
       "    padding: 5px;\n",
       "  }\n",
       "  th {\n",
       "    text-align: left;\n",
       "  }\n",
       "</style><div class='table-result-container'><table class='table-result'><thead style='background-color: white'><tr><th>round</th><th>estadio</th><th>time_mandante</th><th>gols_mandante</th><th>gols_visitante</th><th>time_visitante</th><th>year</th><th>resultado</th></tr></thead><tbody><tr><td>1</td><td>Brinco de Ouro</td><td>Guarani</td><td>4.0</td><td>2.0</td><td>Vasco</td><td>2003</td><td>Mandante</td></tr><tr><td>1</td><td>Ligga Arena</td><td>Athletico-PR</td><td>2.0</td><td>0.0</td><td>Grêmio</td><td>2003</td><td>Mandante</td></tr><tr><td>1</td><td>Alfredo Jaconi</td><td>Juventude</td><td>2.0</td><td>2.0</td><td>São Paulo</td><td>2003</td><td>Empate</td></tr><tr><td>1</td><td>Mineirão</td><td>Cruzeiro</td><td>2.0</td><td>2.0</td><td>São Caetano</td><td>2003</td><td>Empate</td></tr><tr><td>1</td><td>Maracanã</td><td>Flamengo</td><td>1.0</td><td>1.0</td><td>Coritiba</td><td>2003</td><td>Empate</td></tr></tbody></table></div>"
      ]
     },
     "metadata": {
      "application/vnd.databricks.v1+output": {
       "addedWidgets": {},
       "aggData": [],
       "aggError": "",
       "aggOverflow": false,
       "aggSchema": [],
       "aggSeriesLimitReached": false,
       "aggType": "",
       "arguments": {},
       "columnCustomDisplayInfos": {},
       "data": [
        [
         1,
         "Brinco de Ouro",
         "Guarani",
         4.0,
         2.0,
         "Vasco",
         2003,
         "Mandante"
        ],
        [
         1,
         "Ligga Arena",
         "Athletico-PR",
         2.0,
         0.0,
         "Grêmio",
         2003,
         "Mandante"
        ],
        [
         1,
         "Alfredo Jaconi",
         "Juventude",
         2.0,
         2.0,
         "São Paulo",
         2003,
         "Empate"
        ],
        [
         1,
         "Mineirão",
         "Cruzeiro",
         2.0,
         2.0,
         "São Caetano",
         2003,
         "Empate"
        ],
        [
         1,
         "Maracanã",
         "Flamengo",
         1.0,
         1.0,
         "Coritiba",
         2003,
         "Empate"
        ]
       ],
       "datasetInfos": [],
       "dbfsResultPath": null,
       "isJsonSchema": true,
       "metadata": {},
       "overflow": false,
       "plotOptions": {
        "customPlotOptions": {},
        "displayType": "table",
        "pivotAggregation": null,
        "pivotColumns": null,
        "xColumns": null,
        "yColumns": null
       },
       "removedWidgets": [],
       "schema": [
        {
         "metadata": "{}",
         "name": "round",
         "type": "\"integer\""
        },
        {
         "metadata": "{}",
         "name": "estadio",
         "type": "\"string\""
        },
        {
         "metadata": "{}",
         "name": "time_mandante",
         "type": "\"string\""
        },
        {
         "metadata": "{}",
         "name": "gols_mandante",
         "type": "\"double\""
        },
        {
         "metadata": "{}",
         "name": "gols_visitante",
         "type": "\"double\""
        },
        {
         "metadata": "{}",
         "name": "time_visitante",
         "type": "\"string\""
        },
        {
         "metadata": "{}",
         "name": "year",
         "type": "\"integer\""
        },
        {
         "metadata": "{}",
         "name": "resultado",
         "type": "\"string\""
        }
       ],
       "type": "table"
      }
     },
     "output_type": "display_data"
    }
   ],
   "source": [
    "%sql\n",
    "SELECT * FROM silver.jogos_silver LIMIT 5;"
   ]
  },
  {
   "cell_type": "markdown",
   "metadata": {
    "application/vnd.databricks.v1+cell": {
     "cellMetadata": {},
     "inputWidgets": {},
     "nuid": "703d9928-847a-4d38-9185-1d664f8bd37d",
     "showTitle": false,
     "tableResultSettingsMap": {},
     "title": ""
    }
   },
   "source": [
    "Agora vou criar a camada gold.\n",
    "\n",
    "Vou criar uma tabela com estatísticas agregadas por time mandante, por exemplo:\n",
    "\n",
    "- Total de jogos como mandante\n",
    "\n",
    "- Total de vitórias, empates, derrotas\n",
    "\n",
    "- Total de gols marcados e sofridos\n",
    "\n",
    "- Aproveitamento de pontos (em %)"
   ]
  },
  {
   "cell_type": "code",
   "execution_count": 0,
   "metadata": {
    "application/vnd.databricks.v1+cell": {
     "cellMetadata": {
      "byteLimit": 2048000,
      "rowLimit": 10000
     },
     "inputWidgets": {},
     "nuid": "3b693497-a930-4206-ad25-1f5cf7990961",
     "showTitle": false,
     "tableResultSettingsMap": {},
     "title": ""
    }
   },
   "outputs": [],
   "source": [
    "from pyspark.sql.functions import col, count, sum, when, round\n",
    "\n",
    "# Leitura da camada Silver\n",
    "df = spark.table(\"silver.jogos_silver\")\n",
    "\n",
    "# Cálculo por time mandante\n",
    "df_gold = df.groupBy(\"time_mandante\").agg(\n",
    "    count(\"*\").alias(\"jogos_mandante\"),\n",
    "    sum(when(col(\"resultado\") == \"Mandante\", 1).otherwise(0)).alias(\"vitorias\"),\n",
    "    sum(when(col(\"resultado\") == \"Empate\", 1).otherwise(0)).alias(\"empates\"),\n",
    "    sum(when(col(\"resultado\") == \"Visitante\", 1).otherwise(0)).alias(\"derrotas\"),\n",
    "    sum(col(\"gols_mandante\")).alias(\"gols_feitos\"),\n",
    "    sum(col(\"gols_visitante\")).alias(\"gols_sofridos\")\n",
    ").withColumn(\n",
    "    \"aproveitamento\", \n",
    "    round((col(\"vitorias\") * 3 + col(\"empates\")) / (col(\"jogos_mandante\") * 3) * 100, 2)\n",
    ")\n",
    "\n",
    "# Criar uma view temporária para salvar com SQL\n",
    "df_gold.createOrReplaceTempView(\"vw_gold_estatisticas_mandante\")"
   ]
  },
  {
   "cell_type": "code",
   "execution_count": 0,
   "metadata": {
    "application/vnd.databricks.v1+cell": {
     "cellMetadata": {
      "byteLimit": 2048000,
      "implicitDf": true,
      "rowLimit": 10000
     },
     "inputWidgets": {},
     "nuid": "fb041860-6656-4566-b72d-8bc8c20b4518",
     "showTitle": false,
     "tableResultSettingsMap": {},
     "title": ""
    }
   },
   "outputs": [
    {
     "output_type": "display_data",
     "data": {
      "text/html": [
       "<style scoped>\n",
       "  .table-result-container {\n",
       "    max-height: 300px;\n",
       "    overflow: auto;\n",
       "  }\n",
       "  table, th, td {\n",
       "    border: 1px solid black;\n",
       "    border-collapse: collapse;\n",
       "  }\n",
       "  th, td {\n",
       "    padding: 5px;\n",
       "  }\n",
       "  th {\n",
       "    text-align: left;\n",
       "  }\n",
       "</style><div class='table-result-container'><table class='table-result'><thead style='background-color: white'><tr><th>num_affected_rows</th><th>num_inserted_rows</th></tr></thead><tbody></tbody></table></div>"
      ]
     },
     "metadata": {
      "application/vnd.databricks.v1+output": {
       "addedWidgets": {},
       "aggData": [],
       "aggError": "",
       "aggOverflow": false,
       "aggSchema": [],
       "aggSeriesLimitReached": false,
       "aggType": "",
       "arguments": {},
       "columnCustomDisplayInfos": {},
       "data": [],
       "datasetInfos": [],
       "dbfsResultPath": null,
       "isJsonSchema": true,
       "metadata": {},
       "overflow": false,
       "plotOptions": {
        "customPlotOptions": {},
        "displayType": "table",
        "pivotAggregation": null,
        "pivotColumns": null,
        "xColumns": null,
        "yColumns": null
       },
       "removedWidgets": [],
       "schema": [
        {
         "metadata": "{}",
         "name": "num_affected_rows",
         "type": "\"long\""
        },
        {
         "metadata": "{}",
         "name": "num_inserted_rows",
         "type": "\"long\""
        }
       ],
       "type": "table"
      }
     },
     "output_type": "display_data"
    }
   ],
   "source": [
    "%sql\n",
    "-- Criar schema gold se ainda não existir\n",
    "CREATE SCHEMA IF NOT EXISTS gold;\n",
    "\n",
    "-- Criar a tabela gold com os dados agregados\n",
    "CREATE OR REPLACE TABLE gold.estatisticas_mandante AS\n",
    "SELECT * FROM vw_gold_estatisticas_mandante;"
   ]
  },
  {
   "cell_type": "code",
   "execution_count": 0,
   "metadata": {
    "application/vnd.databricks.v1+cell": {
     "cellMetadata": {
      "byteLimit": 2048000,
      "implicitDf": true,
      "rowLimit": 10000
     },
     "inputWidgets": {},
     "nuid": "a59d5f46-e5af-4f8f-bcc7-75eee7f15e35",
     "showTitle": false,
     "tableResultSettingsMap": {},
     "title": ""
    }
   },
   "outputs": [
    {
     "output_type": "display_data",
     "data": {
      "text/html": [
       "<style scoped>\n",
       "  .table-result-container {\n",
       "    max-height: 300px;\n",
       "    overflow: auto;\n",
       "  }\n",
       "  table, th, td {\n",
       "    border: 1px solid black;\n",
       "    border-collapse: collapse;\n",
       "  }\n",
       "  th, td {\n",
       "    padding: 5px;\n",
       "  }\n",
       "  th {\n",
       "    text-align: left;\n",
       "  }\n",
       "</style><div class='table-result-container'><table class='table-result'><thead style='background-color: white'><tr><th>time_mandante</th><th>jogos_mandante</th><th>vitorias</th><th>empates</th><th>derrotas</th><th>gols_feitos</th><th>gols_sofridos</th><th>aproveitamento</th></tr></thead><tbody><tr><td>Fortaleza</td><td>158</td><td>73</td><td>41</td><td>44</td><td>232.0</td><td>178.0</td><td>54.85</td></tr><tr><td>Santos</td><td>410</td><td>231</td><td>106</td><td>73</td><td>732.0</td><td>391.0</td><td>64.96</td></tr><tr><td>Botafogo</td><td>348</td><td>162</td><td>92</td><td>94</td><td>532.0</td><td>379.0</td><td>55.36</td></tr><tr><td>Flamengo</td><td>409</td><td>224</td><td>105</td><td>80</td><td>680.0</td><td>383.0</td><td>63.33</td></tr><tr><td>Atlético-MG</td><td>390</td><td>218</td><td>83</td><td>89</td><td>677.0</td><td>408.0</td><td>62.99</td></tr></tbody></table></div>"
      ]
     },
     "metadata": {
      "application/vnd.databricks.v1+output": {
       "addedWidgets": {},
       "aggData": [],
       "aggError": "",
       "aggOverflow": false,
       "aggSchema": [],
       "aggSeriesLimitReached": false,
       "aggType": "",
       "arguments": {},
       "columnCustomDisplayInfos": {},
       "data": [
        [
         "Fortaleza",
         158,
         73,
         41,
         44,
         232.0,
         178.0,
         54.85
        ],
        [
         "Santos",
         410,
         231,
         106,
         73,
         732.0,
         391.0,
         64.96
        ],
        [
         "Botafogo",
         348,
         162,
         92,
         94,
         532.0,
         379.0,
         55.36
        ],
        [
         "Flamengo",
         409,
         224,
         105,
         80,
         680.0,
         383.0,
         63.33
        ],
        [
         "Atlético-MG",
         390,
         218,
         83,
         89,
         677.0,
         408.0,
         62.99
        ]
       ],
       "datasetInfos": [],
       "dbfsResultPath": null,
       "isJsonSchema": true,
       "metadata": {},
       "overflow": false,
       "plotOptions": {
        "customPlotOptions": {},
        "displayType": "table",
        "pivotAggregation": null,
        "pivotColumns": null,
        "xColumns": null,
        "yColumns": null
       },
       "removedWidgets": [],
       "schema": [
        {
         "metadata": "{}",
         "name": "time_mandante",
         "type": "\"string\""
        },
        {
         "metadata": "{}",
         "name": "jogos_mandante",
         "type": "\"long\""
        },
        {
         "metadata": "{}",
         "name": "vitorias",
         "type": "\"long\""
        },
        {
         "metadata": "{}",
         "name": "empates",
         "type": "\"long\""
        },
        {
         "metadata": "{}",
         "name": "derrotas",
         "type": "\"long\""
        },
        {
         "metadata": "{}",
         "name": "gols_feitos",
         "type": "\"double\""
        },
        {
         "metadata": "{}",
         "name": "gols_sofridos",
         "type": "\"double\""
        },
        {
         "metadata": "{}",
         "name": "aproveitamento",
         "type": "\"double\""
        }
       ],
       "type": "table"
      }
     },
     "output_type": "display_data"
    }
   ],
   "source": [
    "%sql\n",
    "SELECT * FROM gold.estatisticas_mandante LIMIT 5;"
   ]
  },
  {
   "cell_type": "markdown",
   "metadata": {
    "application/vnd.databricks.v1+cell": {
     "cellMetadata": {},
     "inputWidgets": {},
     "nuid": "4fe5eab8-0c38-426f-b69f-340006a0780d",
     "showTitle": false,
     "tableResultSettingsMap": {},
     "title": ""
    }
   },
   "source": [
    "## 📚 Catálogo de Dados – Camada Gold (`gold.estatisticas_mandante`)\n",
    "\n",
    "| Tabela                  | Coluna         | Tipo       | Descrição                                           | Domínio / Faixa Esperada                         |\n",
    "|------------------------|----------------|------------|-----------------------------------------------------|--------------------------------------------------|\n",
    "| estatisticas_mandante  | time_mandante  | String     | Nome do time que atuou como mandante                | Nomes oficiais de clubes brasileiros             |\n",
    "| estatisticas_mandante  | total_jogos    | Integer    | Total de partidas em que o time foi mandante        | Inteiros positivos (> 0)                         |\n",
    "| estatisticas_mandante  | vitorias       | Integer    | Número de vitórias como mandante                    | 0 até total_jogos                                |\n",
    "| estatisticas_mandante  | empates        | Integer    | Número de empates como mandante                     | 0 até total_jogos                                |\n",
    "| estatisticas_mandante  | derrotas       | Integer    | Número de derrotas como mandante                    | 0 até total_jogos                                |\n",
    "| estatisticas_mandante  | gols_feitos    | Integer    | Total de gols marcados em casa                      | 0 até dezenas (dependendo do número de jogos)    |\n",
    "| estatisticas_mandante  | gols_sofridos  | Integer    | Total de gols sofridos em casa                      | 0 até dezenas                                    |\n",
    "| estatisticas_mandante  | saldo_gols     | Integer    | Diferença entre gols feitos e sofridos              | Pode ser negativo, zero ou positivo              |\n",
    "| estatisticas_mandante  | aproveitamento | Float (%)  | Percentual de aproveitamento em casa                | 0.0 a 100.0                                       |"
   ]
  },
  {
   "cell_type": "markdown",
   "metadata": {
    "application/vnd.databricks.v1+cell": {
     "cellMetadata": {},
     "inputWidgets": {},
     "nuid": "e688c333-ce3d-407f-aeef-f7824af33f40",
     "showTitle": true,
     "tableResultSettingsMap": {},
     "title": ""
    }
   },
   "source": [
    "Agora que nossa base esta pronta, podemos fazer algumas consultas para responder algumas perguntas.\n",
    "\n",
    "### 1. Quais times mais venceram como mandantes entre 2002 e 2022?"
   ]
  },
  {
   "cell_type": "code",
   "execution_count": 0,
   "metadata": {
    "application/vnd.databricks.v1+cell": {
     "cellMetadata": {
      "byteLimit": 2048000,
      "implicitDf": true,
      "rowLimit": 10000
     },
     "inputWidgets": {},
     "nuid": "51c5f4a3-5582-44bd-a8da-a3eb3d70747e",
     "showTitle": false,
     "tableResultSettingsMap": {},
     "title": ""
    }
   },
   "outputs": [
    {
     "output_type": "display_data",
     "data": {
      "text/html": [
       "<style scoped>\n",
       "  .table-result-container {\n",
       "    max-height: 300px;\n",
       "    overflow: auto;\n",
       "  }\n",
       "  table, th, td {\n",
       "    border: 1px solid black;\n",
       "    border-collapse: collapse;\n",
       "  }\n",
       "  th, td {\n",
       "    padding: 5px;\n",
       "  }\n",
       "  th {\n",
       "    text-align: left;\n",
       "  }\n",
       "</style><div class='table-result-container'><table class='table-result'><thead style='background-color: white'><tr><th>time_mandante</th><th>vitorias</th></tr></thead><tbody><tr><td>São Paulo</td><td>235</td></tr><tr><td>Santos</td><td>231</td></tr><tr><td>Internacional</td><td>229</td></tr><tr><td>Flamengo</td><td>224</td></tr><tr><td>Athletico-PR</td><td>221</td></tr><tr><td>Atlético-MG</td><td>218</td></tr><tr><td>Grêmio</td><td>218</td></tr><tr><td>Palmeiras</td><td>212</td></tr><tr><td>Corinthians</td><td>211</td></tr><tr><td>Fluminense</td><td>206</td></tr></tbody></table></div>"
      ]
     },
     "metadata": {
      "application/vnd.databricks.v1+output": {
       "addedWidgets": {},
       "aggData": [],
       "aggError": "",
       "aggOverflow": false,
       "aggSchema": [],
       "aggSeriesLimitReached": false,
       "aggType": "",
       "arguments": {},
       "columnCustomDisplayInfos": {},
       "data": [
        [
         "São Paulo",
         235
        ],
        [
         "Santos",
         231
        ],
        [
         "Internacional",
         229
        ],
        [
         "Flamengo",
         224
        ],
        [
         "Athletico-PR",
         221
        ],
        [
         "Atlético-MG",
         218
        ],
        [
         "Grêmio",
         218
        ],
        [
         "Palmeiras",
         212
        ],
        [
         "Corinthians",
         211
        ],
        [
         "Fluminense",
         206
        ]
       ],
       "datasetInfos": [],
       "dbfsResultPath": null,
       "isJsonSchema": true,
       "metadata": {},
       "overflow": false,
       "plotOptions": {
        "customPlotOptions": {},
        "displayType": "table",
        "pivotAggregation": null,
        "pivotColumns": null,
        "xColumns": null,
        "yColumns": null
       },
       "removedWidgets": [],
       "schema": [
        {
         "metadata": "{}",
         "name": "time_mandante",
         "type": "\"string\""
        },
        {
         "metadata": "{}",
         "name": "vitorias",
         "type": "\"long\""
        }
       ],
       "type": "table"
      }
     },
     "output_type": "display_data"
    }
   ],
   "source": [
    "%sql\n",
    "SELECT time_mandante, vitorias\n",
    "FROM gold.estatisticas_mandante\n",
    "ORDER BY vitorias DESC\n",
    "LIMIT 10;"
   ]
  },
  {
   "cell_type": "markdown",
   "metadata": {
    "application/vnd.databricks.v1+cell": {
     "cellMetadata": {
      "byteLimit": 2048000,
      "rowLimit": 10000
     },
     "inputWidgets": {},
     "nuid": "8da1f16d-f161-4da6-9c3d-0f7efdd3fa4e",
     "showTitle": false,
     "tableResultSettingsMap": {},
     "title": ""
    },
    "jupyter": {
     "outputs_hidden": true
    }
   },
   "source": [
    "- Podemos ver que São Paulo, Santos, Internacional, Flamengo e Athletico-PR foram os times com maior número de vitorias jogando em casa."
   ]
  },
  {
   "cell_type": "markdown",
   "metadata": {
    "application/vnd.databricks.v1+cell": {
     "cellMetadata": {},
     "inputWidgets": {},
     "nuid": "8355f135-43eb-4cfd-95c3-138dc4751369",
     "showTitle": false,
     "tableResultSettingsMap": {},
     "title": ""
    }
   },
   "source": [
    "### 2. Qual time teve o maior aproveitamento como mandante?"
   ]
  },
  {
   "cell_type": "code",
   "execution_count": 0,
   "metadata": {
    "application/vnd.databricks.v1+cell": {
     "cellMetadata": {
      "byteLimit": 2048000,
      "implicitDf": true,
      "rowLimit": 10000
     },
     "inputWidgets": {},
     "nuid": "eef17d5e-7e61-4b37-805f-e56228ff2192",
     "showTitle": false,
     "tableResultSettingsMap": {},
     "title": ""
    }
   },
   "outputs": [
    {
     "output_type": "display_data",
     "data": {
      "text/html": [
       "<style scoped>\n",
       "  .table-result-container {\n",
       "    max-height: 300px;\n",
       "    overflow: auto;\n",
       "  }\n",
       "  table, th, td {\n",
       "    border: 1px solid black;\n",
       "    border-collapse: collapse;\n",
       "  }\n",
       "  th, td {\n",
       "    padding: 5px;\n",
       "  }\n",
       "  th {\n",
       "    text-align: left;\n",
       "  }\n",
       "</style><div class='table-result-container'><table class='table-result'><thead style='background-color: white'><tr><th>time_mandante</th><th>aproveitamento</th></tr></thead><tbody><tr><td>Grêmio</td><td>66.76</td></tr><tr><td>Internacional</td><td>66.67</td></tr><tr><td>São Paulo</td><td>66.34</td></tr><tr><td>Athletico-PR</td><td>65.38</td></tr><tr><td>Santos</td><td>64.96</td></tr><tr><td>Palmeiras</td><td>64.94</td></tr><tr><td>Barueri</td><td>64.91</td></tr><tr><td>Corinthians</td><td>63.42</td></tr><tr><td>Flamengo</td><td>63.33</td></tr><tr><td>Atlético-MG</td><td>62.99</td></tr></tbody></table></div>"
      ]
     },
     "metadata": {
      "application/vnd.databricks.v1+output": {
       "addedWidgets": {},
       "aggData": [],
       "aggError": "",
       "aggOverflow": false,
       "aggSchema": [],
       "aggSeriesLimitReached": false,
       "aggType": "",
       "arguments": {},
       "columnCustomDisplayInfos": {},
       "data": [
        [
         "Grêmio",
         66.76
        ],
        [
         "Internacional",
         66.67
        ],
        [
         "São Paulo",
         66.34
        ],
        [
         "Athletico-PR",
         65.38
        ],
        [
         "Santos",
         64.96
        ],
        [
         "Palmeiras",
         64.94
        ],
        [
         "Barueri",
         64.91
        ],
        [
         "Corinthians",
         63.42
        ],
        [
         "Flamengo",
         63.33
        ],
        [
         "Atlético-MG",
         62.99
        ]
       ],
       "datasetInfos": [],
       "dbfsResultPath": null,
       "isJsonSchema": true,
       "metadata": {},
       "overflow": false,
       "plotOptions": {
        "customPlotOptions": {},
        "displayType": "table",
        "pivotAggregation": null,
        "pivotColumns": null,
        "xColumns": null,
        "yColumns": null
       },
       "removedWidgets": [],
       "schema": [
        {
         "metadata": "{}",
         "name": "time_mandante",
         "type": "\"string\""
        },
        {
         "metadata": "{}",
         "name": "aproveitamento",
         "type": "\"double\""
        }
       ],
       "type": "table"
      }
     },
     "output_type": "display_data"
    }
   ],
   "source": [
    "%sql\n",
    "SELECT time_mandante, aproveitamento\n",
    "FROM gold.estatisticas_mandante\n",
    "ORDER BY aproveitamento DESC\n",
    "LIMIT 10;"
   ]
  },
  {
   "cell_type": "markdown",
   "metadata": {
    "application/vnd.databricks.v1+cell": {
     "cellMetadata": {},
     "inputWidgets": {},
     "nuid": "00434fa1-c865-4192-8fc5-317b0dc709be",
     "showTitle": false,
     "tableResultSettingsMap": {},
     "title": ""
    }
   },
   "source": [
    "- Podemos perceber que Grêmio, Internacional, São Paulo, Athletico-PR e Santos são os times com maior aproveitamento como mandante. \n",
    "- Mas como é possível o Grêmio ser o time com maior aproveitamento se na análise anterior vimos que o São Paulo é o time com maior vitórias jogando como mandante?\n",
    "- A resposta é simples, o aproveitamento leva em conta a eficiência e não o número de jogos, os times podem ter a quantidade de jogos diferente."
   ]
  },
  {
   "cell_type": "markdown",
   "metadata": {
    "application/vnd.databricks.v1+cell": {
     "cellMetadata": {},
     "inputWidgets": {},
     "nuid": "96c382ad-5201-48e6-9da3-d7a615d6b6ba",
     "showTitle": false,
     "tableResultSettingsMap": {},
     "title": ""
    }
   },
   "source": [
    "### 3. Existe correlação entre gols marcados como mandante e aproveitamento?"
   ]
  },
  {
   "cell_type": "code",
   "execution_count": 0,
   "metadata": {
    "application/vnd.databricks.v1+cell": {
     "cellMetadata": {
      "byteLimit": 2048000,
      "implicitDf": true,
      "rowLimit": 10000
     },
     "inputWidgets": {},
     "nuid": "dcc47b1d-3828-4064-80ce-fbf88b3db0c4",
     "showTitle": false,
     "tableResultSettingsMap": {},
     "title": ""
    }
   },
   "outputs": [
    {
     "output_type": "display_data",
     "data": {
      "text/html": [
       "<style scoped>\n",
       "  .table-result-container {\n",
       "    max-height: 300px;\n",
       "    overflow: auto;\n",
       "  }\n",
       "  table, th, td {\n",
       "    border: 1px solid black;\n",
       "    border-collapse: collapse;\n",
       "  }\n",
       "  th, td {\n",
       "    padding: 5px;\n",
       "  }\n",
       "  th {\n",
       "    text-align: left;\n",
       "  }\n",
       "</style><div class='table-result-container'><table class='table-result'><thead style='background-color: white'><tr><th>time_mandante</th><th>gols_feitos</th><th>aproveitamento</th></tr></thead><tbody><tr><td>Fortaleza</td><td>232.0</td><td>54.85</td></tr><tr><td>Santos</td><td>732.0</td><td>64.96</td></tr><tr><td>Botafogo</td><td>532.0</td><td>55.36</td></tr><tr><td>Flamengo</td><td>680.0</td><td>63.33</td></tr><tr><td>Atlético-MG</td><td>677.0</td><td>62.99</td></tr><tr><td>Vasco</td><td>463.0</td><td>53.9</td></tr><tr><td>Goiás</td><td>478.0</td><td>56.27</td></tr><tr><td>Internacional</td><td>635.0</td><td>66.67</td></tr><tr><td>Fluminense</td><td>630.0</td><td>59.27</td></tr><tr><td>Ceará</td><td>160.0</td><td>51.13</td></tr><tr><td>Santa Cruz</td><td>50.0</td><td>39.47</td></tr><tr><td>Atlético-GO</td><td>158.0</td><td>42.61</td></tr><tr><td>Palmeiras</td><td>641.0</td><td>64.94</td></tr><tr><td>Avaí</td><td>171.0</td><td>44.36</td></tr><tr><td>Prudente</td><td>25.0</td><td>35.09</td></tr><tr><td>Portuguesa</td><td>90.0</td><td>55.56</td></tr><tr><td>Cruzeiro</td><td>608.0</td><td>61.76</td></tr><tr><td>Paraná</td><td>186.0</td><td>55.65</td></tr><tr><td>Joinville</td><td>19.0</td><td>43.86</td></tr><tr><td>Paysandu</td><td>133.0</td><td>59.31</td></tr><tr><td>Bahia</td><td>284.0</td><td>51.33</td></tr><tr><td>Criciúma</td><td>122.0</td><td>54.76</td></tr><tr><td>América-RN</td><td>12.0</td><td>15.79</td></tr><tr><td>Juventude</td><td>197.0</td><td>53.79</td></tr><tr><td>Corinthians</td><td>586.0</td><td>63.42</td></tr><tr><td>Ipatinga</td><td>28.0</td><td>52.63</td></tr><tr><td>RB Bragantino</td><td>119.0</td><td>57.89</td></tr><tr><td>Náutico</td><td>131.0</td><td>50.88</td></tr><tr><td>Figueirense</td><td>311.0</td><td>53.88</td></tr><tr><td>Grêmio</td><td>640.0</td><td>66.76</td></tr><tr><td>Barueri</td><td>35.0</td><td>64.91</td></tr><tr><td>São Paulo</td><td>688.0</td><td>66.34</td></tr><tr><td>Santo André</td><td>29.0</td><td>50.88</td></tr><tr><td>Ponte Preta</td><td>257.0</td><td>53.48</td></tr><tr><td>São Caetano</td><td>120.0</td><td>57.75</td></tr><tr><td>Guarani</td><td>83.0</td><td>57.44</td></tr><tr><td>Brasiliense</td><td>24.0</td><td>38.1</td></tr><tr><td>Cuiabá</td><td>58.0</td><td>45.03</td></tr><tr><td>América-MG</td><td>133.0</td><td>47.95</td></tr><tr><td>CSA</td><td>17.0</td><td>40.35</td></tr><tr><td>Sport</td><td>291.0</td><td>55.66</td></tr><tr><td>Chapecoense</td><td>149.0</td><td>45.61</td></tr><tr><td>Vitória</td><td>312.0</td><td>52.86</td></tr><tr><td>Coritiba</td><td>404.0</td><td>55.71</td></tr><tr><td>Athletico-PR</td><td>645.0</td><td>65.38</td></tr></tbody></table></div>"
      ]
     },
     "metadata": {
      "application/vnd.databricks.v1+output": {
       "addedWidgets": {},
       "aggData": [],
       "aggError": "",
       "aggOverflow": false,
       "aggSchema": [],
       "aggSeriesLimitReached": false,
       "aggType": "",
       "arguments": {},
       "columnCustomDisplayInfos": {},
       "data": [
        [
         "Fortaleza",
         232.0,
         54.85
        ],
        [
         "Santos",
         732.0,
         64.96
        ],
        [
         "Botafogo",
         532.0,
         55.36
        ],
        [
         "Flamengo",
         680.0,
         63.33
        ],
        [
         "Atlético-MG",
         677.0,
         62.99
        ],
        [
         "Vasco",
         463.0,
         53.9
        ],
        [
         "Goiás",
         478.0,
         56.27
        ],
        [
         "Internacional",
         635.0,
         66.67
        ],
        [
         "Fluminense",
         630.0,
         59.27
        ],
        [
         "Ceará",
         160.0,
         51.13
        ],
        [
         "Santa Cruz",
         50.0,
         39.47
        ],
        [
         "Atlético-GO",
         158.0,
         42.61
        ],
        [
         "Palmeiras",
         641.0,
         64.94
        ],
        [
         "Avaí",
         171.0,
         44.36
        ],
        [
         "Prudente",
         25.0,
         35.09
        ],
        [
         "Portuguesa",
         90.0,
         55.56
        ],
        [
         "Cruzeiro",
         608.0,
         61.76
        ],
        [
         "Paraná",
         186.0,
         55.65
        ],
        [
         "Joinville",
         19.0,
         43.86
        ],
        [
         "Paysandu",
         133.0,
         59.31
        ],
        [
         "Bahia",
         284.0,
         51.33
        ],
        [
         "Criciúma",
         122.0,
         54.76
        ],
        [
         "América-RN",
         12.0,
         15.79
        ],
        [
         "Juventude",
         197.0,
         53.79
        ],
        [
         "Corinthians",
         586.0,
         63.42
        ],
        [
         "Ipatinga",
         28.0,
         52.63
        ],
        [
         "RB Bragantino",
         119.0,
         57.89
        ],
        [
         "Náutico",
         131.0,
         50.88
        ],
        [
         "Figueirense",
         311.0,
         53.88
        ],
        [
         "Grêmio",
         640.0,
         66.76
        ],
        [
         "Barueri",
         35.0,
         64.91
        ],
        [
         "São Paulo",
         688.0,
         66.34
        ],
        [
         "Santo André",
         29.0,
         50.88
        ],
        [
         "Ponte Preta",
         257.0,
         53.48
        ],
        [
         "São Caetano",
         120.0,
         57.75
        ],
        [
         "Guarani",
         83.0,
         57.44
        ],
        [
         "Brasiliense",
         24.0,
         38.1
        ],
        [
         "Cuiabá",
         58.0,
         45.03
        ],
        [
         "América-MG",
         133.0,
         47.95
        ],
        [
         "CSA",
         17.0,
         40.35
        ],
        [
         "Sport",
         291.0,
         55.66
        ],
        [
         "Chapecoense",
         149.0,
         45.61
        ],
        [
         "Vitória",
         312.0,
         52.86
        ],
        [
         "Coritiba",
         404.0,
         55.71
        ],
        [
         "Athletico-PR",
         645.0,
         65.38
        ]
       ],
       "datasetInfos": [],
       "dbfsResultPath": null,
       "isJsonSchema": true,
       "metadata": {},
       "overflow": false,
       "plotOptions": {
        "customPlotOptions": {},
        "displayType": "table",
        "pivotAggregation": null,
        "pivotColumns": null,
        "xColumns": null,
        "yColumns": null
       },
       "removedWidgets": [],
       "schema": [
        {
         "metadata": "{}",
         "name": "time_mandante",
         "type": "\"string\""
        },
        {
         "metadata": "{}",
         "name": "gols_feitos",
         "type": "\"double\""
        },
        {
         "metadata": "{}",
         "name": "aproveitamento",
         "type": "\"double\""
        }
       ],
       "type": "table"
      }
     },
     "output_type": "display_data"
    }
   ],
   "source": [
    "%sql\n",
    "SELECT time_mandante, gols_feitos, aproveitamento\n",
    "FROM gold.estatisticas_mandante;"
   ]
  },
  {
   "cell_type": "markdown",
   "metadata": {
    "application/vnd.databricks.v1+cell": {
     "cellMetadata": {},
     "inputWidgets": {},
     "nuid": "3e035d0f-72ad-4291-95cf-3fb7954e69e5",
     "showTitle": false,
     "tableResultSettingsMap": {},
     "title": ""
    }
   },
   "source": [
    "- Podemos perceber que geralmente os times que marcam muitos gols, tem um aproveitamento melhor."
   ]
  },
  {
   "cell_type": "markdown",
   "metadata": {
    "application/vnd.databricks.v1+cell": {
     "cellMetadata": {},
     "inputWidgets": {},
     "nuid": "87bbaa78-1d08-45a9-81c6-bd28578e0aa0",
     "showTitle": false,
     "tableResultSettingsMap": {},
     "title": ""
    }
   },
   "source": [
    "### 4. Quais times são mais equilibradas entre ataque e defesa em casa?"
   ]
  },
  {
   "cell_type": "code",
   "execution_count": 0,
   "metadata": {
    "application/vnd.databricks.v1+cell": {
     "cellMetadata": {
      "byteLimit": 2048000,
      "implicitDf": true,
      "rowLimit": 10000
     },
     "inputWidgets": {},
     "nuid": "933ab672-5cce-45c1-ace9-14688053ea98",
     "showTitle": false,
     "tableResultSettingsMap": {},
     "title": ""
    }
   },
   "outputs": [
    {
     "output_type": "display_data",
     "data": {
      "text/html": [
       "<style scoped>\n",
       "  .table-result-container {\n",
       "    max-height: 300px;\n",
       "    overflow: auto;\n",
       "  }\n",
       "  table, th, td {\n",
       "    border: 1px solid black;\n",
       "    border-collapse: collapse;\n",
       "  }\n",
       "  th, td {\n",
       "    padding: 5px;\n",
       "  }\n",
       "  th {\n",
       "    text-align: left;\n",
       "  }\n",
       "</style><div class='table-result-container'><table class='table-result'><thead style='background-color: white'><tr><th>time_mandante</th><th>gols_feitos</th><th>gols_sofridos</th><th>saldo_gols</th></tr></thead><tbody><tr><td>Santos</td><td>732.0</td><td>391.0</td><td>341.0</td></tr><tr><td>São Paulo</td><td>688.0</td><td>354.0</td><td>334.0</td></tr><tr><td>Grêmio</td><td>640.0</td><td>330.0</td><td>310.0</td></tr><tr><td>Internacional</td><td>635.0</td><td>335.0</td><td>300.0</td></tr><tr><td>Flamengo</td><td>680.0</td><td>383.0</td><td>297.0</td></tr><tr><td>Athletico-PR</td><td>645.0</td><td>357.0</td><td>288.0</td></tr><tr><td>Palmeiras</td><td>641.0</td><td>368.0</td><td>273.0</td></tr><tr><td>Atlético-MG</td><td>677.0</td><td>408.0</td><td>269.0</td></tr><tr><td>Cruzeiro</td><td>608.0</td><td>374.0</td><td>234.0</td></tr><tr><td>Corinthians</td><td>586.0</td><td>355.0</td><td>231.0</td></tr></tbody></table></div>"
      ]
     },
     "metadata": {
      "application/vnd.databricks.v1+output": {
       "addedWidgets": {},
       "aggData": [],
       "aggError": "",
       "aggOverflow": false,
       "aggSchema": [],
       "aggSeriesLimitReached": false,
       "aggType": "",
       "arguments": {},
       "columnCustomDisplayInfos": {},
       "data": [
        [
         "Santos",
         732.0,
         391.0,
         341.0
        ],
        [
         "São Paulo",
         688.0,
         354.0,
         334.0
        ],
        [
         "Grêmio",
         640.0,
         330.0,
         310.0
        ],
        [
         "Internacional",
         635.0,
         335.0,
         300.0
        ],
        [
         "Flamengo",
         680.0,
         383.0,
         297.0
        ],
        [
         "Athletico-PR",
         645.0,
         357.0,
         288.0
        ],
        [
         "Palmeiras",
         641.0,
         368.0,
         273.0
        ],
        [
         "Atlético-MG",
         677.0,
         408.0,
         269.0
        ],
        [
         "Cruzeiro",
         608.0,
         374.0,
         234.0
        ],
        [
         "Corinthians",
         586.0,
         355.0,
         231.0
        ]
       ],
       "datasetInfos": [],
       "dbfsResultPath": null,
       "isJsonSchema": true,
       "metadata": {},
       "overflow": false,
       "plotOptions": {
        "customPlotOptions": {},
        "displayType": "table",
        "pivotAggregation": null,
        "pivotColumns": null,
        "xColumns": null,
        "yColumns": null
       },
       "removedWidgets": [],
       "schema": [
        {
         "metadata": "{}",
         "name": "time_mandante",
         "type": "\"string\""
        },
        {
         "metadata": "{}",
         "name": "gols_feitos",
         "type": "\"double\""
        },
        {
         "metadata": "{}",
         "name": "gols_sofridos",
         "type": "\"double\""
        },
        {
         "metadata": "{}",
         "name": "saldo_gols",
         "type": "\"double\""
        }
       ],
       "type": "table"
      }
     },
     "output_type": "display_data"
    }
   ],
   "source": [
    "%sql\n",
    "SELECT time_mandante,\n",
    "       gols_feitos,\n",
    "       gols_sofridos,\n",
    "       (gols_feitos - gols_sofridos) AS saldo_gols\n",
    "FROM gold.estatisticas_mandante\n",
    "ORDER BY saldo_gols DESC\n",
    "LIMIT 10;"
   ]
  },
  {
   "cell_type": "markdown",
   "metadata": {
    "application/vnd.databricks.v1+cell": {
     "cellMetadata": {},
     "inputWidgets": {},
     "nuid": "dd388378-2364-4fc3-b5a2-296bf9ef2c68",
     "showTitle": false,
     "tableResultSettingsMap": {},
     "title": ""
    }
   },
   "source": [
    "- Neste caso Santos, São Paulo, Grêmio, Internacional e Flamengo tem o maior saldo de gols, o que sugere um equilíbrio entre ataque e defesa."
   ]
  },
  {
   "cell_type": "markdown",
   "metadata": {
    "application/vnd.databricks.v1+cell": {
     "cellMetadata": {},
     "inputWidgets": {},
     "nuid": "46c25ad1-33ef-42ed-8e33-2c8b21bdcd81",
     "showTitle": false,
     "tableResultSettingsMap": {},
     "title": ""
    }
   },
   "source": [
    "### 5. Quais times sofrem mais gols como mandantes?"
   ]
  },
  {
   "cell_type": "code",
   "execution_count": 0,
   "metadata": {
    "application/vnd.databricks.v1+cell": {
     "cellMetadata": {
      "byteLimit": 2048000,
      "implicitDf": true,
      "rowLimit": 10000
     },
     "inputWidgets": {},
     "nuid": "418020da-b4fc-4804-be69-0c3dd02ddb5e",
     "showTitle": false,
     "tableResultSettingsMap": {},
     "title": ""
    }
   },
   "outputs": [
    {
     "output_type": "display_data",
     "data": {
      "text/html": [
       "<style scoped>\n",
       "  .table-result-container {\n",
       "    max-height: 300px;\n",
       "    overflow: auto;\n",
       "  }\n",
       "  table, th, td {\n",
       "    border: 1px solid black;\n",
       "    border-collapse: collapse;\n",
       "  }\n",
       "  th, td {\n",
       "    padding: 5px;\n",
       "  }\n",
       "  th {\n",
       "    text-align: left;\n",
       "  }\n",
       "</style><div class='table-result-container'><table class='table-result'><thead style='background-color: white'><tr><th>time_mandante</th><th>gols_sofridos</th></tr></thead><tbody><tr><td>Fluminense</td><td>418.0</td></tr><tr><td>Atlético-MG</td><td>408.0</td></tr><tr><td>Santos</td><td>391.0</td></tr><tr><td>Flamengo</td><td>383.0</td></tr><tr><td>Botafogo</td><td>379.0</td></tr><tr><td>Cruzeiro</td><td>374.0</td></tr><tr><td>Vasco</td><td>369.0</td></tr><tr><td>Palmeiras</td><td>368.0</td></tr><tr><td>Athletico-PR</td><td>357.0</td></tr><tr><td>Corinthians</td><td>355.0</td></tr></tbody></table></div>"
      ]
     },
     "metadata": {
      "application/vnd.databricks.v1+output": {
       "addedWidgets": {},
       "aggData": [],
       "aggError": "",
       "aggOverflow": false,
       "aggSchema": [],
       "aggSeriesLimitReached": false,
       "aggType": "",
       "arguments": {},
       "columnCustomDisplayInfos": {},
       "data": [
        [
         "Fluminense",
         418.0
        ],
        [
         "Atlético-MG",
         408.0
        ],
        [
         "Santos",
         391.0
        ],
        [
         "Flamengo",
         383.0
        ],
        [
         "Botafogo",
         379.0
        ],
        [
         "Cruzeiro",
         374.0
        ],
        [
         "Vasco",
         369.0
        ],
        [
         "Palmeiras",
         368.0
        ],
        [
         "Athletico-PR",
         357.0
        ],
        [
         "Corinthians",
         355.0
        ]
       ],
       "datasetInfos": [],
       "dbfsResultPath": null,
       "isJsonSchema": true,
       "metadata": {},
       "overflow": false,
       "plotOptions": {
        "customPlotOptions": {},
        "displayType": "table",
        "pivotAggregation": null,
        "pivotColumns": null,
        "xColumns": null,
        "yColumns": null
       },
       "removedWidgets": [],
       "schema": [
        {
         "metadata": "{}",
         "name": "time_mandante",
         "type": "\"string\""
        },
        {
         "metadata": "{}",
         "name": "gols_sofridos",
         "type": "\"double\""
        }
       ],
       "type": "table"
      }
     },
     "output_type": "display_data"
    }
   ],
   "source": [
    "%sql\n",
    "SELECT time_mandante, gols_sofridos\n",
    "FROM gold.estatisticas_mandante\n",
    "ORDER BY gols_sofridos DESC\n",
    "LIMIT 10;"
   ]
  },
  {
   "cell_type": "markdown",
   "metadata": {
    "application/vnd.databricks.v1+cell": {
     "cellMetadata": {},
     "inputWidgets": {},
     "nuid": "29fa52c1-a7a0-4d95-b183-1f7ba2e077a2",
     "showTitle": false,
     "tableResultSettingsMap": {},
     "title": ""
    }
   },
   "source": [
    "- Fluminense, Atlético-MG, Santos, Flamengo e Botafogo indicam fragilidade defensiva mesmo jogando em casa, o que pode ajudar a explicar baixos aproveitamentos, mas nem tanto, visto que o Santos está no Top 5 de melhor aproveitamento, as vezes um time pode tomar muitos gols em casa, mas fazer mais ainda, o que compensa o número de gols tomados."
   ]
  },
  {
   "cell_type": "markdown",
   "metadata": {
    "application/vnd.databricks.v1+cell": {
     "cellMetadata": {},
     "inputWidgets": {},
     "nuid": "9943ee6d-3c69-4d57-93d5-0d844dee5353",
     "showTitle": false,
     "tableResultSettingsMap": {},
     "title": ""
    }
   },
   "source": [
    "## 📌 Conclusões Finais\n",
    "\n",
    "Ao longo deste projeto, foi possível perceber como a **análise de dados no futebol** vai muito além de observar estatísticas isoladas. Os números contam histórias, revelam padrões e trazem insights, mas também mostram que o futebol é um esporte extremamente complexo, onde inúmeros fatores técnicos, táticos, emocionais e até ambientais influenciam diretamente o resultado de uma partida.\n",
    "\n",
    "Durante a análise, ficou evidente que métricas como **gols marcados**, **gols sofridos** e **aproveitamento** não devem ser vistas de forma desassociada. Um exemplo interessante foi o caso do **Santos**, que mesmo figurando entre os cinco times que mais sofreram gols jogando em casa, também aparece entre os cinco com melhor aproveitamento como mandante. Esse aparente paradoxo mostra que, mesmo com uma defesa mais vulnerável, o clube conseguiu manter alta taxa de vitórias — possivelmente devido a um ataque eficiente ou desempenho pontual em jogos decisivos.\n",
    "\n",
    "Esse tipo de observação só é possível graças à:\n",
    "\n",
    "- ✅ Modelagem adequada dos dados  \n",
    "- ✅ Construção de pipelines robustos de transformação e carga  \n",
    "- ✅ Formulação de perguntas relevantes com base nos objetivos definidos no início do projeto\n",
    "\n",
    "Utilizando a **plataforma Databricks**, conseguimos transformar uma base de dados bruta em uma estrutura analítica que nos permitiu explorar diferentes dimensões do jogo.\n",
    "\n",
    "---\n",
    "\n",
    "### 🔍 Novas Perguntas Levantadas\n",
    "\n",
    "Mais do que responder às perguntas levantadas inicialmente, este projeto despertou novas curiosidades:\n",
    "\n",
    "- ❓ Como se comportam os times fora de casa?  \n",
    "- ❓ Há padrão de desempenho por década?  \n",
    "- ❓ Times que marcam mais gols em casa também vencem fora?  \n",
    "- ❓ Existe uma correlação entre tipo de estádio e desempenho?\n",
    "\n",
    "Essas e muitas outras questões poderiam ser exploradas com o mesmo dataset ou com a inclusão de **novas fontes de dados** — como escalações, treinadores, presença de torcida, entre outros fatores.\n",
    "\n",
    "---\n",
    "\n",
    "### 🎓 Considerações Finais\n",
    "\n",
    "Foi extremamente enriquecedor ver como os dados podem transformar algo tão emocional como o futebol em um campo fértil para **análise racional** e **tomada de decisões**. A combinação entre a **paixão pelo esporte** e o **poder da análise de dados** abre espaço para projetos ainda mais amplos e completos no futuro.\n"
   ]
  }
 ],
 "metadata": {
  "application/vnd.databricks.v1+notebook": {
   "computePreferences": null,
   "dashboards": [],
   "environmentMetadata": {
    "base_environment": "",
    "environment_version": "1"
   },
   "inputWidgetPreferences": null,
   "language": "python",
   "notebookMetadata": {
    "mostRecentlyExecutedCommandWithImplicitDF": {
     "commandId": 443716956500122,
     "dataframes": [
      "_sqldf"
     ]
    },
    "pythonIndentUnit": 4
   },
   "notebookName": "Mvp",
   "widgets": {}
  }
 },
 "nbformat": 4,
 "nbformat_minor": 0
}